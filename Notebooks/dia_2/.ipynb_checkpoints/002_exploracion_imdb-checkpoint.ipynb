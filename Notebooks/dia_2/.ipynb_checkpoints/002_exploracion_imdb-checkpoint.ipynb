{
 "cells": [
  {
   "cell_type": "markdown",
   "metadata": {},
   "source": [
    "## Laboratorio de implementación - Limpieza de datos y exploración"
   ]
  },
  {
   "cell_type": "markdown",
   "metadata": {},
   "source": [
    "La información que vamos a utilizar está en el siguiente link: https://www.imdb.com/interfaces/\n",
    "\n",
    "Es clave que cuando tengamos una base de dato, lo primero que intentemos es entender es de donde salio y que representa. Por eso, cuando hay documentación, lo más importante es leerla primero."
   ]
  },
  {
   "cell_type": "markdown",
   "metadata": {},
   "source": [
    "### IMDB - Internet Movie Database\n",
    "<img src=\"imdb-banner-1.jpeg\">"
   ]
  },
  {
   "cell_type": "markdown",
   "metadata": {},
   "source": [
    "La base de datos de IMDB esta compuesta por 7 tablas:\n",
    "* <b>title.akas.tsv.gz</b> - Contains the following information for titles:\n",
    "    - titleId (string) - a tconst, an alphanumeric unique identifier of the title ordering (integer) – a number to uniquely identify rows for a given titleId\n",
    "    - title (string) – the localized title\n",
    "    - region (string) - the region for this version of the title\n",
    "    - language (string) - the language of the title\n",
    "    - types (array) - Enumerated set of attributes for this alternative title. One or more of the following: \"alternative\", \"dvd\", \"festival\", \"tv\", \"video\", \"working\", \"original\", \"imdbDisplay\". New values may be added in the future without warning\n",
    "    - attributes (array) - Additional terms to describe this alternative title, not enumerated\n",
    "    - isOriginalTitle (boolean) – 0: not original title; 1: original title\n",
    "* <b>title.basics.tsv.gz</b> - Contains the following information for titles:\n",
    "    - tconst (string) - alphanumeric unique identifier of the title\n",
    "    - titleType (string) – the type/format of the title (e.g. movie, short, tvseries, tvepisode, video, etc)\n",
    "    - primaryTitle (string) – the more popular title / the title used by the filmmakers on promotional materials at the point of release\n",
    "    - originalTitle (string) - original title, in the original language\n",
    "    - isAdult (boolean) - 0: non-adult title; 1: adult title\n",
    "    - startYear (YYYY) – represents the release year of a title. In the case of TV Series, it is the series start year\n",
    "    - endYear (YYYY) – TV Series end year. ‘\\N’ for all other title types\n",
    "    - runtimeMinutes – primary runtime of the title, in minutes\n",
    "    - genres (string array) – includes up to three genres associated with the title\n",
    "* <b> title.crew.tsv.gz</b> – Contains the director and writer information for all the titles in IMDb. Fields include:\n",
    "    - tconst (string) - alphanumeric unique identifier of the title\n",
    "    - directors (array of nconsts) - director(s) of the given title\n",
    "    - writers (array of nconsts) – writer(s) of the given title\n",
    "* <b> title.episode.tsv.gz</b> – Contains the tv episode information. Fields include:\n",
    "    - tconst (string) - alphanumeric identifier of episode\n",
    "    - parentTconst (string) - alphanumeric identifier of the parent TV Series\n",
    "    - seasonNumber (integer) – season number the episode belongs to \n",
    "    - episodeNumber (integer) – episode number of the tconst in the TV series\n",
    "* <b> title.principals.tsv.gz </b> – Contains the principal cast/crew for titles\n",
    "    - tconst (string) - alphanumeric unique identifier of the title\n",
    "    - ordering (integer) – a number to uniquely identify rows for a given titleId\n",
    "    - nconst (string) - alphanumeric unique identifier of the name/person\n",
    "    - category (string) - the category of job that person was in\n",
    "    - job (string) - the specific job title if applicable, else '\\N'\n",
    "    - characters (string) - the name of the character played if applicable, else '\\N'\n",
    "* <b>title.ratings.tsv.gz</b> – Contains the IMDb rating and votes information for titles\n",
    "    - tconst (string) - alphanumeric unique identifier of the title\n",
    "    - averageRating – weighted average of all the individual user ratings\n",
    "    - numVotes - number of votes the title has received\n",
    "* <b>name.basics.tsv.gz</b> – Contains the following information for names:\n",
    "    - nconst (string) - alphanumeric unique identifier of the name/person\n",
    "    - primaryName (string)– name by which the person is most often credited\n",
    "    - birthYear – in YYYY format\n",
    "    - deathYear – in YYYY format if applicable, else '\\N'\n",
    "    - primaryProfession (array of strings)– the top-3 professions of the person\n",
    "    - knownForTitles (array of tconsts) – titles the person is known for"
   ]
  },
  {
   "cell_type": "code",
   "execution_count": null,
   "metadata": {},
   "outputs": [],
   "source": [
    "#Importamos la librerías que vamos a usar:\n",
    "import numpy as np\n",
    "import pandas as pd\n",
    "import os\n",
    "import matplotlib.pyplot as plt #para graficar\n",
    "import seaborn as sns #para graficar\n",
    "\n",
    "import warnings\n",
    "warnings.filterwarnings('always')\n",
    "warnings.filterwarnings('ignore')\n",
    "\n",
    "#Seteo opciones de pandas para evitar truncar columnas/filas\n",
    "pd.set_option('display.max_columns', None) #evitar truncar columnas\n",
    "#pd.set_option('display.max_rows', 20) #evitar truncar filas"
   ]
  },
  {
   "cell_type": "code",
   "execution_count": null,
   "metadata": {},
   "outputs": [],
   "source": [
    "#Veamos los datasets que tengo\n",
    "os.listdir('/Users/adambrosio/Documents/GitHub/DMA_LABO_Austral_2021_rosario/Data/')"
   ]
  },
  {
   "cell_type": "code",
   "execution_count": null,
   "metadata": {},
   "outputs": [],
   "source": [
    "path='/Users/adambrosio/Documents/GitHub/DMA_LABO_Austral_2021_rosario/Data/'"
   ]
  },
  {
   "cell_type": "code",
   "execution_count": null,
   "metadata": {},
   "outputs": [],
   "source": [
    "#Vamos a arrancar explorando el de title basics que parece ser el archivo más interesante para comenzar\n",
    "title_basics = pd.read_csv(path+'title.basics.tsv',sep=\"\\t\")"
   ]
  },
  {
   "cell_type": "code",
   "execution_count": null,
   "metadata": {},
   "outputs": [],
   "source": [
    "#Veamos que hay en el archivo\n",
    "\n",
    "title_basics.head(-5)"
   ]
  },
  {
   "cell_type": "code",
   "execution_count": null,
   "metadata": {},
   "outputs": [],
   "source": [
    "#Veamos si hay nulos\n",
    "\n",
    "title_basics.isna()"
   ]
  },
  {
   "cell_type": "code",
   "execution_count": null,
   "metadata": {},
   "outputs": [],
   "source": [
    "len(title_basics)"
   ]
  },
  {
   "cell_type": "code",
   "execution_count": null,
   "metadata": {},
   "outputs": [],
   "source": [
    "#Veamos si hay nulos\n",
    "\n",
    "title_basics.isna().sum()"
   ]
  },
  {
   "cell_type": "code",
   "execution_count": null,
   "metadata": {},
   "outputs": [],
   "source": [
    "# Veamos los que tienen título nulo\n",
    "\n",
    "title_basics[title_basics.primaryTitle.isna()]"
   ]
  },
  {
   "cell_type": "code",
   "execution_count": null,
   "metadata": {},
   "outputs": [],
   "source": [
    "# Veamos los que tienen generos nulos\n",
    "\n",
    "title_basics[title_basics.genres.isna()]"
   ]
  },
  {
   "cell_type": "code",
   "execution_count": null,
   "metadata": {},
   "outputs": [],
   "source": [
    "#Tipo de datos de las columnas\n",
    "\n",
    "title_basics.dtypes"
   ]
  },
  {
   "cell_type": "code",
   "execution_count": null,
   "metadata": {},
   "outputs": [],
   "source": [
    "#Ver que tipos de datos hay en cada columna\n",
    "\n",
    "columna='startYear'\n",
    "\n",
    "lista=[]\n",
    "lista.append(type(title_basics[columna][0]))\n",
    "\n",
    "for ele in title_basics[columna]:\n",
    "    a=type(ele)\n",
    "    if a==lista[-1]:\n",
    "        continue\n",
    "    else:\n",
    "        lista.append(a)\n",
    "        print(lista)"
   ]
  },
  {
   "cell_type": "code",
   "execution_count": null,
   "metadata": {},
   "outputs": [],
   "source": [
    "title_basics.startYear.astype('float')"
   ]
  },
  {
   "cell_type": "code",
   "execution_count": null,
   "metadata": {},
   "outputs": [],
   "source": [
    "pd.to_numeric(title_basics['startYear'])"
   ]
  },
  {
   "cell_type": "code",
   "execution_count": null,
   "metadata": {
    "scrolled": true
   },
   "outputs": [],
   "source": [
    "title_basics.iloc[65776]"
   ]
  },
  {
   "cell_type": "code",
   "execution_count": null,
   "metadata": {},
   "outputs": [],
   "source": [
    "# Con esto convierto a número y fuerzo a que tome valores nulos cuando no puede\n",
    "\n",
    "pd.to_numeric(title_basics['startYear'],errors='coerce').iloc[65776]"
   ]
  },
  {
   "cell_type": "code",
   "execution_count": null,
   "metadata": {},
   "outputs": [],
   "source": [
    "# Con esto convierto a número y fuerzo a que tome valores nulos cuando no puede\n",
    "\n",
    "\n",
    "title_basics['startYear'] = pd.to_numeric(title_basics['startYear'],errors='coerce')"
   ]
  },
  {
   "cell_type": "code",
   "execution_count": null,
   "metadata": {},
   "outputs": [],
   "source": [
    "#Convierto las columnas numéricas\n",
    "\n",
    "title_basics['endYear'] = pd.to_numeric(title_basics['endYear'],errors='coerce')\n",
    "title_basics['runtimeMinutes'] = pd.to_numeric(title_basics['runtimeMinutes'],errors='coerce')"
   ]
  },
  {
   "cell_type": "code",
   "execution_count": null,
   "metadata": {},
   "outputs": [],
   "source": [
    "#Convierto las columnas de texto\n",
    "\n",
    "title_basics['tconst']=title_basics['tconst'].astype('string')\n",
    "title_basics['titleType']=title_basics['titleType'].astype('string')\n",
    "title_basics['primaryTitle']=title_basics['primaryTitle'].astype('string')\n",
    "title_basics['originalTitle']=title_basics['originalTitle'].astype('string')\n",
    "title_basics['genres']=title_basics['genres'].astype('string')"
   ]
  },
  {
   "cell_type": "code",
   "execution_count": null,
   "metadata": {},
   "outputs": [],
   "source": [
    "#Veamos como quedaron los tipos de cada columna\n",
    "title_basics.info()"
   ]
  },
  {
   "cell_type": "code",
   "execution_count": null,
   "metadata": {},
   "outputs": [],
   "source": [
    "#Veamos un histograma de como estan distribuidas las peliculas\n",
    "\n",
    "title_basics.startYear.hist()"
   ]
  },
  {
   "cell_type": "code",
   "execution_count": null,
   "metadata": {},
   "outputs": [],
   "source": [
    "#Veamos un histograma de como estan distribuidas las peliculas (ahora con bins)\n",
    "title_basics.startYear.hist(bins=20)"
   ]
  },
  {
   "cell_type": "code",
   "execution_count": null,
   "metadata": {},
   "outputs": [],
   "source": [
    "#Cual es el minimo\n",
    "\n",
    "title_basics.startYear.min()"
   ]
  },
  {
   "cell_type": "code",
   "execution_count": null,
   "metadata": {},
   "outputs": [],
   "source": [
    "#Cual es el máximo\n",
    "\n",
    "title_basics.startYear.max()"
   ]
  },
  {
   "cell_type": "code",
   "execution_count": null,
   "metadata": {},
   "outputs": [],
   "source": [
    "#Veamos cual es la peli con el máximo\n",
    "title_basics.loc[title_basics['startYear'] == 2028.0]"
   ]
  },
  {
   "cell_type": "code",
   "execution_count": null,
   "metadata": {},
   "outputs": [],
   "source": [
    "title_basics.iloc[5886678]"
   ]
  },
  {
   "cell_type": "code",
   "execution_count": null,
   "metadata": {},
   "outputs": [],
   "source": [
    "print('https://www.imdb.com/title/tt5174640/')"
   ]
  },
  {
   "cell_type": "code",
   "execution_count": null,
   "metadata": {},
   "outputs": [],
   "source": [
    "#Veamos cual es la peli con el minimo\n",
    "title_basics.loc[title_basics['startYear'] == 1874]"
   ]
  },
  {
   "cell_type": "code",
   "execution_count": null,
   "metadata": {},
   "outputs": [],
   "source": [
    "print('https://www.imdb.com/title/tt3155794/')"
   ]
  },
  {
   "cell_type": "code",
   "execution_count": null,
   "metadata": {},
   "outputs": [],
   "source": [
    "#Armemos ahora un histograma con bins especificdos\n",
    "\n",
    "title_basics.startYear.hist(bins=[1900,1910,1920,1930,1940,1950,1960,1970,1980,1990,2000,2010,2020,2030,2040],\n",
    "                            alpha=0.5)"
   ]
  },
  {
   "cell_type": "code",
   "execution_count": null,
   "metadata": {},
   "outputs": [],
   "source": [
    "#Armemos rangos de fechas\n",
    "list(range(1900, 2020))"
   ]
  },
  {
   "cell_type": "code",
   "execution_count": null,
   "metadata": {},
   "outputs": [],
   "source": [
    "fechas=list(range(1900, 2023))"
   ]
  },
  {
   "cell_type": "code",
   "execution_count": null,
   "metadata": {},
   "outputs": [],
   "source": [
    "# Usemos esos rangos ahora\n",
    "title_basics.startYear.hist(bins=fechas,alpha=0.8)"
   ]
  },
  {
   "cell_type": "code",
   "execution_count": null,
   "metadata": {},
   "outputs": [],
   "source": [
    "# Que tipo de entidades tenemos\n",
    "title_basics.titleType.unique()"
   ]
  },
  {
   "cell_type": "code",
   "execution_count": null,
   "metadata": {},
   "outputs": [],
   "source": [
    "title_basics.groupby('titleType').startYear.hist(stacked=True)"
   ]
  },
  {
   "cell_type": "code",
   "execution_count": null,
   "metadata": {},
   "outputs": [],
   "source": [
    "title_basics.pivot(columns='titleType').startYear.plot(kind = 'hist', stacked=True,bins=fechas)"
   ]
  },
  {
   "cell_type": "code",
   "execution_count": null,
   "metadata": {},
   "outputs": [],
   "source": [
    "title_basics.pivot(columns='titleType')"
   ]
  },
  {
   "cell_type": "code",
   "execution_count": null,
   "metadata": {},
   "outputs": [],
   "source": [
    "#Veamos que hay en episodios\n",
    "title_basics[title_basics['titleType']=='tvEpisode'].sample(20)"
   ]
  },
  {
   "cell_type": "code",
   "execution_count": null,
   "metadata": {},
   "outputs": [],
   "source": [
    "print('https://www.imdb.com/title/tt1026159/')"
   ]
  },
  {
   "cell_type": "code",
   "execution_count": null,
   "metadata": {},
   "outputs": [],
   "source": [
    "fechas=list(range(1900, 2030))\n",
    "title_basics[title_basics['titleType']=='movie'].startYear.plot(kind = 'hist', stacked=True,bins=fechas)\n",
    "plt.xlim(1900,2030)\n",
    "plt.ylim(0,20000)"
   ]
  },
  {
   "cell_type": "code",
   "execution_count": null,
   "metadata": {},
   "outputs": [],
   "source": [
    "title_basics.head(4)"
   ]
  },
  {
   "cell_type": "code",
   "execution_count": null,
   "metadata": {},
   "outputs": [],
   "source": [
    "movies=title_basics[title_basics['titleType']=='movie']\n",
    "movies.head()"
   ]
  },
  {
   "cell_type": "code",
   "execution_count": null,
   "metadata": {},
   "outputs": [],
   "source": [
    "pelis_por_ano=pd.pivot_table(movies,values='primaryTitle',aggfunc='count',index=[\"startYear\"])"
   ]
  },
  {
   "cell_type": "code",
   "execution_count": null,
   "metadata": {},
   "outputs": [],
   "source": [
    "pelis_por_ano.plot()"
   ]
  },
  {
   "cell_type": "code",
   "execution_count": null,
   "metadata": {},
   "outputs": [],
   "source": [
    "pelis_por_ano.to_csv('peliano.csv')"
   ]
  },
  {
   "cell_type": "code",
   "execution_count": null,
   "metadata": {},
   "outputs": [],
   "source": [
    "!ls"
   ]
  },
  {
   "cell_type": "code",
   "execution_count": null,
   "metadata": {},
   "outputs": [],
   "source": [
    "title_ratings = pd.read_csv(path+\"title.ratings.tsv\",sep=\"\\t\")"
   ]
  },
  {
   "cell_type": "code",
   "execution_count": null,
   "metadata": {},
   "outputs": [],
   "source": [
    "title_ratings.head(4)"
   ]
  },
  {
   "cell_type": "code",
   "execution_count": null,
   "metadata": {},
   "outputs": [],
   "source": [
    "title_ratings.info()"
   ]
  },
  {
   "cell_type": "code",
   "execution_count": null,
   "metadata": {},
   "outputs": [],
   "source": [
    "title_ratings['tconst']=title_ratings['tconst'].astype('string')"
   ]
  },
  {
   "cell_type": "code",
   "execution_count": null,
   "metadata": {},
   "outputs": [],
   "source": [
    "title_ratings.info()"
   ]
  },
  {
   "cell_type": "code",
   "execution_count": null,
   "metadata": {},
   "outputs": [],
   "source": [
    "title_ratings.head(10)"
   ]
  },
  {
   "cell_type": "code",
   "execution_count": null,
   "metadata": {},
   "outputs": [],
   "source": [
    "result = pd.merge(movies,title_ratings, how='left', on=['tconst', 'tconst'])"
   ]
  },
  {
   "cell_type": "code",
   "execution_count": null,
   "metadata": {},
   "outputs": [],
   "source": [
    "result"
   ]
  },
  {
   "cell_type": "code",
   "execution_count": null,
   "metadata": {},
   "outputs": [],
   "source": [
    "print('https://www.imdb.com/title/tt9916706/')"
   ]
  },
  {
   "cell_type": "code",
   "execution_count": null,
   "metadata": {},
   "outputs": [],
   "source": [
    "movies_chica=result[['tconst','primaryTitle','startYear','runtimeMinutes','averageRating','numVotes']]"
   ]
  },
  {
   "cell_type": "code",
   "execution_count": null,
   "metadata": {},
   "outputs": [],
   "source": [
    "movies_chica"
   ]
  },
  {
   "cell_type": "code",
   "execution_count": null,
   "metadata": {},
   "outputs": [],
   "source": [
    "movies_chica.isna().sum()"
   ]
  },
  {
   "cell_type": "code",
   "execution_count": null,
   "metadata": {},
   "outputs": [],
   "source": [
    "len(movies_chica)"
   ]
  },
  {
   "cell_type": "code",
   "execution_count": null,
   "metadata": {},
   "outputs": [],
   "source": [
    "plt.scatter(x=movies_chica.runtimeMinutes,y=movies_chica.averageRating)"
   ]
  },
  {
   "cell_type": "code",
   "execution_count": null,
   "metadata": {},
   "outputs": [],
   "source": [
    "movies_chica.info()"
   ]
  },
  {
   "cell_type": "code",
   "execution_count": null,
   "metadata": {},
   "outputs": [],
   "source": [
    "movies_chica['duracion']=pd.cut(movies_chica.runtimeMinutes, bins=list(range(0,600,60)))"
   ]
  },
  {
   "cell_type": "code",
   "execution_count": null,
   "metadata": {},
   "outputs": [],
   "source": [
    "movies_chica.head()"
   ]
  },
  {
   "cell_type": "code",
   "execution_count": null,
   "metadata": {},
   "outputs": [],
   "source": [
    "pd.pivot_table(movies_chica,values='averageRating',aggfunc=np.mean,index=[\"duracion\"]).plot(figsize=(15, 7))\n",
    "#plt.ylim(0,10)"
   ]
  },
  {
   "cell_type": "code",
   "execution_count": null,
   "metadata": {},
   "outputs": [],
   "source": [
    "pd.pivot_table(movies_chica,values='averageRating',aggfunc=[np.mean,'count'],index=[\"duracion\"])"
   ]
  },
  {
   "cell_type": "code",
   "execution_count": null,
   "metadata": {},
   "outputs": [],
   "source": [
    "movies_chica.averageRating.isna().sum()"
   ]
  },
  {
   "cell_type": "code",
   "execution_count": null,
   "metadata": {},
   "outputs": [],
   "source": [
    "movies_sin_nulos=movies_chica.dropna(axis=0)"
   ]
  },
  {
   "cell_type": "code",
   "execution_count": null,
   "metadata": {},
   "outputs": [],
   "source": [
    "len(movies_sin_nulos)"
   ]
  },
  {
   "cell_type": "code",
   "execution_count": null,
   "metadata": {},
   "outputs": [],
   "source": [
    "pd.pivot_table(movies_sin_nulos,values='averageRating',aggfunc=np.mean,index=[\"startYear\"]).plot()"
   ]
  },
  {
   "cell_type": "code",
   "execution_count": null,
   "metadata": {},
   "outputs": [],
   "source": [
    "pd.pivot_table(movies_sin_nulos,values='averageRating',aggfunc=[np.mean,'count'],index=[\"startYear\"])"
   ]
  },
  {
   "cell_type": "code",
   "execution_count": null,
   "metadata": {},
   "outputs": [],
   "source": [
    "movies_sin_nulos.sort_values(by=['averageRating'],ascending=False)"
   ]
  },
  {
   "cell_type": "code",
   "execution_count": null,
   "metadata": {},
   "outputs": [],
   "source": [
    "movies_sin_nulos[movies_sin_nulos['numVotes']>100000].sort_values(by=['averageRating'],ascending=False)"
   ]
  },
  {
   "cell_type": "code",
   "execution_count": null,
   "metadata": {},
   "outputs": [],
   "source": [
    "print('https://www.imdb.com/title/tt0112178/')"
   ]
  },
  {
   "cell_type": "code",
   "execution_count": null,
   "metadata": {},
   "outputs": [],
   "source": [
    "movies_sin_nulos.insert(2,'url','https://www.imdb.com/title/'+movies_sin_nulos.tconst+'/')"
   ]
  },
  {
   "cell_type": "code",
   "execution_count": null,
   "metadata": {},
   "outputs": [],
   "source": [
    "movies_sin_nulos"
   ]
  },
  {
   "cell_type": "code",
   "execution_count": null,
   "metadata": {},
   "outputs": [],
   "source": [
    "movies.genres.unique()"
   ]
  },
  {
   "cell_type": "code",
   "execution_count": null,
   "metadata": {},
   "outputs": [],
   "source": [
    "genres_list=[]\n",
    "for ele in list(movies.genres.unique()):\n",
    "    genres_list=genres_list+str(ele).split(sep=\",\")\n",
    "genres_list = list(dict.fromkeys(genres_list))\n",
    "genres_list"
   ]
  },
  {
   "cell_type": "code",
   "execution_count": null,
   "metadata": {},
   "outputs": [],
   "source": [
    "movies.fillna('\\\\N',inplace=True)"
   ]
  },
  {
   "cell_type": "code",
   "execution_count": null,
   "metadata": {},
   "outputs": [],
   "source": [
    "for ele in genres_list:\n",
    "    movies[ele]=np.nan\n",
    "movies.head()"
   ]
  },
  {
   "cell_type": "code",
   "execution_count": null,
   "metadata": {},
   "outputs": [],
   "source": [
    "genres_list.remove('\\\\N')"
   ]
  },
  {
   "cell_type": "code",
   "execution_count": null,
   "metadata": {},
   "outputs": [],
   "source": [
    "genres_list"
   ]
  },
  {
   "cell_type": "code",
   "execution_count": null,
   "metadata": {},
   "outputs": [],
   "source": [
    "for ele in genres_list:\n",
    "    movies.loc[movies['genres'].str.contains(ele),ele]=1"
   ]
  },
  {
   "cell_type": "code",
   "execution_count": null,
   "metadata": {},
   "outputs": [],
   "source": [
    "movies.head(10)"
   ]
  },
  {
   "cell_type": "code",
   "execution_count": null,
   "metadata": {},
   "outputs": [],
   "source": [
    "movies.isna().sum()"
   ]
  },
  {
   "cell_type": "code",
   "execution_count": null,
   "metadata": {},
   "outputs": [],
   "source": [
    "movies.drop(columns='\\\\N',inplace=True)"
   ]
  },
  {
   "cell_type": "code",
   "execution_count": null,
   "metadata": {},
   "outputs": [],
   "source": [
    "movies.fillna(0)"
   ]
  },
  {
   "cell_type": "code",
   "execution_count": null,
   "metadata": {},
   "outputs": [],
   "source": [
    "title_basics.head()"
   ]
  },
  {
   "cell_type": "code",
   "execution_count": null,
   "metadata": {},
   "outputs": [],
   "source": [
    "title_series=title_basics[title_basics.titleType=='tvSeries']\n",
    "title_series[title_basics.primaryTitle.str.contains(\"Star Trek\")]"
   ]
  },
  {
   "cell_type": "code",
   "execution_count": null,
   "metadata": {},
   "outputs": [],
   "source": [
    "title_episode=pd.read_csv(path+\"title.episode.tsv\",sep=\"\\t\")\n",
    "title_episode.head()"
   ]
  },
  {
   "cell_type": "code",
   "execution_count": null,
   "metadata": {},
   "outputs": [],
   "source": [
    "title_episode[title_episode.parentTconst=='tt0092455']"
   ]
  },
  {
   "cell_type": "code",
   "execution_count": null,
   "metadata": {},
   "outputs": [],
   "source": [
    "ratings=pd.merge(title_episode[title_episode.parentTconst=='tt0112178'],\n",
    "                 title_ratings, how='left', on=['tconst', 'tconst'])"
   ]
  },
  {
   "cell_type": "code",
   "execution_count": null,
   "metadata": {},
   "outputs": [],
   "source": [
    "ratings.sort_values(by=['averageRating']).tail(10)"
   ]
  },
  {
   "cell_type": "code",
   "execution_count": null,
   "metadata": {},
   "outputs": [],
   "source": [
    "ratings.boxplot(column='averageRating',by='seasonNumber',figsize=(15, 7))"
   ]
  },
  {
   "cell_type": "code",
   "execution_count": null,
   "metadata": {},
   "outputs": [],
   "source": []
  }
 ],
 "metadata": {
  "kernelspec": {
   "display_name": "Python 3",
   "language": "python",
   "name": "python3"
  },
  "language_info": {
   "codemirror_mode": {
    "name": "ipython",
    "version": 3
   },
   "file_extension": ".py",
   "mimetype": "text/x-python",
   "name": "python",
   "nbconvert_exporter": "python",
   "pygments_lexer": "ipython3",
   "version": "3.7.6"
  }
 },
 "nbformat": 4,
 "nbformat_minor": 4
}
