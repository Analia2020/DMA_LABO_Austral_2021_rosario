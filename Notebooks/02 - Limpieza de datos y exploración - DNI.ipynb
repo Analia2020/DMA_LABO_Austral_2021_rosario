{
 "cells": [
  {
   "cell_type": "markdown",
   "metadata": {},
   "source": [
    "## MELI - TRAMA - Problem Solving with Data"
   ]
  },
  {
   "cell_type": "code",
   "execution_count": 1,
   "metadata": {},
   "outputs": [],
   "source": [
    "import pandas as pd #importo la librería para trabajar con datos\n",
    "import numpy as np #importo la librería para procesar matrices\n",
    "from matplotlib import pyplot as plt #importo las librerías para graficar"
   ]
  },
  {
   "cell_type": "code",
   "execution_count": 2,
   "metadata": {},
   "outputs": [
    {
     "name": "stdout",
     "output_type": "stream",
     "text": [
      "usuariosapp.csv\r\n"
     ]
    }
   ],
   "source": [
    "!ls dataset_tp1p2 #veo que hay en el directorio donde guardo los datos"
   ]
  },
  {
   "cell_type": "code",
   "execution_count": 3,
   "metadata": {},
   "outputs": [],
   "source": [
    "usuarios=pd.read_csv('./dataset_tp1p2/usuariosapp.csv',sep=';') #cargo un pandas dataframe con la info del archivo"
   ]
  },
  {
   "cell_type": "code",
   "execution_count": 4,
   "metadata": {},
   "outputs": [
    {
     "data": {
      "text/plain": [
       "199826"
      ]
     },
     "execution_count": 4,
     "metadata": {},
     "output_type": "execute_result"
    }
   ],
   "source": [
    "len(usuarios)"
   ]
  },
  {
   "cell_type": "code",
   "execution_count": 5,
   "metadata": {},
   "outputs": [
    {
     "data": {
      "text/plain": [
       "UserID    199826\n",
       "Status    199826\n",
       "Sexo      139980\n",
       "DNI       103883\n",
       "dtype: int64"
      ]
     },
     "execution_count": 5,
     "metadata": {},
     "output_type": "execute_result"
    }
   ],
   "source": [
    "usuarios.count()"
   ]
  },
  {
   "cell_type": "code",
   "execution_count": 6,
   "metadata": {},
   "outputs": [
    {
     "data": {
      "text/plain": [
       "95943"
      ]
     },
     "execution_count": 6,
     "metadata": {},
     "output_type": "execute_result"
    }
   ],
   "source": [
    "199826-103883"
   ]
  },
  {
   "cell_type": "code",
   "execution_count": 7,
   "metadata": {},
   "outputs": [
    {
     "data": {
      "text/html": [
       "<div>\n",
       "<style scoped>\n",
       "    .dataframe tbody tr th:only-of-type {\n",
       "        vertical-align: middle;\n",
       "    }\n",
       "\n",
       "    .dataframe tbody tr th {\n",
       "        vertical-align: top;\n",
       "    }\n",
       "\n",
       "    .dataframe thead th {\n",
       "        text-align: right;\n",
       "    }\n",
       "</style>\n",
       "<table border=\"1\" class=\"dataframe\">\n",
       "  <thead>\n",
       "    <tr style=\"text-align: right;\">\n",
       "      <th></th>\n",
       "      <th>UserID</th>\n",
       "      <th>Status</th>\n",
       "      <th>Sexo</th>\n",
       "      <th>DNI</th>\n",
       "    </tr>\n",
       "  </thead>\n",
       "  <tbody>\n",
       "    <tr>\n",
       "      <th>0</th>\n",
       "      <td>1124</td>\n",
       "      <td>A</td>\n",
       "      <td>F</td>\n",
       "      <td>93834031</td>\n",
       "    </tr>\n",
       "    <tr>\n",
       "      <th>1</th>\n",
       "      <td>1199</td>\n",
       "      <td>A</td>\n",
       "      <td>F</td>\n",
       "      <td>NaN</td>\n",
       "    </tr>\n",
       "    <tr>\n",
       "      <th>2</th>\n",
       "      <td>1420</td>\n",
       "      <td>A</td>\n",
       "      <td>NaN</td>\n",
       "      <td>NaN</td>\n",
       "    </tr>\n",
       "    <tr>\n",
       "      <th>3</th>\n",
       "      <td>1684</td>\n",
       "      <td>I</td>\n",
       "      <td>M</td>\n",
       "      <td>5001415</td>\n",
       "    </tr>\n",
       "    <tr>\n",
       "      <th>4</th>\n",
       "      <td>1713</td>\n",
       "      <td>A</td>\n",
       "      <td>M</td>\n",
       "      <td>NaN</td>\n",
       "    </tr>\n",
       "  </tbody>\n",
       "</table>\n",
       "</div>"
      ],
      "text/plain": [
       "   UserID Status Sexo       DNI\n",
       "0    1124      A    F  93834031\n",
       "1    1199      A    F       NaN\n",
       "2    1420      A  NaN       NaN\n",
       "3    1684      I    M   5001415\n",
       "4    1713      A    M       NaN"
      ]
     },
     "execution_count": 7,
     "metadata": {},
     "output_type": "execute_result"
    }
   ],
   "source": [
    "usuarios.head(5) #veo que hay en los primeros 5 registros del dataframe"
   ]
  },
  {
   "cell_type": "code",
   "execution_count": 8,
   "metadata": {},
   "outputs": [
    {
     "data": {
      "text/plain": [
       "UserID    199826\n",
       "Status    199826\n",
       "Sexo      139980\n",
       "DNI       103883\n",
       "dtype: int64"
      ]
     },
     "execution_count": 8,
     "metadata": {},
     "output_type": "execute_result"
    }
   ],
   "source": [
    "usuarios.count() #veo cuantos registros hay en el dataframe"
   ]
  },
  {
   "cell_type": "code",
   "execution_count": 9,
   "metadata": {},
   "outputs": [
    {
     "data": {
      "text/plain": [
       "UserID     int64\n",
       "Status    object\n",
       "Sexo      object\n",
       "DNI       object\n",
       "dtype: object"
      ]
     },
     "execution_count": 9,
     "metadata": {},
     "output_type": "execute_result"
    }
   ],
   "source": [
    "usuarios.dtypes #veo los tipos de cada columna"
   ]
  },
  {
   "cell_type": "code",
   "execution_count": 10,
   "metadata": {},
   "outputs": [
    {
     "data": {
      "text/plain": [
       "array(['A', 'I'], dtype=object)"
      ]
     },
     "execution_count": 10,
     "metadata": {},
     "output_type": "execute_result"
    }
   ],
   "source": [
    "usuarios.Status.unique() #veo que hay en status"
   ]
  },
  {
   "cell_type": "code",
   "execution_count": 11,
   "metadata": {},
   "outputs": [
    {
     "data": {
      "text/plain": [
       "array(['F', nan, 'M'], dtype=object)"
      ]
     },
     "execution_count": 11,
     "metadata": {},
     "output_type": "execute_result"
    }
   ],
   "source": [
    "usuarios.Sexo.unique() #veo que hay en Sexo"
   ]
  },
  {
   "cell_type": "code",
   "execution_count": 12,
   "metadata": {},
   "outputs": [
    {
     "data": {
      "text/plain": [
       "0     93834031\n",
       "1          NaN\n",
       "2          NaN\n",
       "3      5001415\n",
       "4          NaN\n",
       "5      5001495\n",
       "6      5001851\n",
       "7      5002808\n",
       "8          NaN\n",
       "9          NaN\n",
       "10     5003335\n",
       "11         NaN\n",
       "12     5003864\n",
       "13     5003873\n",
       "14     5003958\n",
       "15     5004539\n",
       "16         NaN\n",
       "17     5004972\n",
       "18    94200224\n",
       "19     5005341\n",
       "Name: DNI, dtype: object"
      ]
     },
     "execution_count": 12,
     "metadata": {},
     "output_type": "execute_result"
    }
   ],
   "source": [
    "usuarios.DNI.head(20) #veo que valores hay en DNI"
   ]
  },
  {
   "cell_type": "code",
   "execution_count": 13,
   "metadata": {},
   "outputs": [
    {
     "name": "stdout",
     "output_type": "stream",
     "text": [
      "93834031\n",
      "El tipo de datos es  <class 'str'>\n"
     ]
    }
   ],
   "source": [
    "#Veamos el tipo de datos del primer registro\n",
    "print(usuarios.DNI[0])\n",
    "print('El tipo de datos es ' , type(usuarios.DNI[0]))"
   ]
  },
  {
   "cell_type": "code",
   "execution_count": 14,
   "metadata": {},
   "outputs": [
    {
     "ename": "ValueError",
     "evalue": "Unable to parse string \"L2000-1325\" at position 64",
     "output_type": "error",
     "traceback": [
      "\u001b[0;31m---------------------------------------------------------------------------\u001b[0m",
      "\u001b[0;31mValueError\u001b[0m                                Traceback (most recent call last)",
      "\u001b[0;32mpandas/_libs/lib.pyx\u001b[0m in \u001b[0;36mpandas._libs.lib.maybe_convert_numeric\u001b[0;34m()\u001b[0m\n",
      "\u001b[0;31mValueError\u001b[0m: Unable to parse string \"L2000-1325\"",
      "\nDuring handling of the above exception, another exception occurred:\n",
      "\u001b[0;31mValueError\u001b[0m                                Traceback (most recent call last)",
      "\u001b[0;32m<ipython-input-14-16594e82c686>\u001b[0m in \u001b[0;36m<module>\u001b[0;34m\u001b[0m\n\u001b[1;32m      1\u001b[0m \u001b[0;31m#Intento transforma la columna DNI a números\u001b[0m\u001b[0;34m\u001b[0m\u001b[0;34m\u001b[0m\u001b[0;34m\u001b[0m\u001b[0m\n\u001b[0;32m----> 2\u001b[0;31m \u001b[0mpd\u001b[0m\u001b[0;34m.\u001b[0m\u001b[0mto_numeric\u001b[0m\u001b[0;34m(\u001b[0m\u001b[0musuarios\u001b[0m\u001b[0;34m.\u001b[0m\u001b[0mDNI\u001b[0m\u001b[0;34m)\u001b[0m\u001b[0;34m\u001b[0m\u001b[0;34m\u001b[0m\u001b[0m\n\u001b[0m",
      "\u001b[0;32m~/opt/anaconda3/lib/python3.7/site-packages/pandas/core/tools/numeric.py\u001b[0m in \u001b[0;36mto_numeric\u001b[0;34m(arg, errors, downcast)\u001b[0m\n\u001b[1;32m    151\u001b[0m         \u001b[0;32mtry\u001b[0m\u001b[0;34m:\u001b[0m\u001b[0;34m\u001b[0m\u001b[0;34m\u001b[0m\u001b[0m\n\u001b[1;32m    152\u001b[0m             values = lib.maybe_convert_numeric(\n\u001b[0;32m--> 153\u001b[0;31m                 \u001b[0mvalues\u001b[0m\u001b[0;34m,\u001b[0m \u001b[0mset\u001b[0m\u001b[0;34m(\u001b[0m\u001b[0;34m)\u001b[0m\u001b[0;34m,\u001b[0m \u001b[0mcoerce_numeric\u001b[0m\u001b[0;34m=\u001b[0m\u001b[0mcoerce_numeric\u001b[0m\u001b[0;34m\u001b[0m\u001b[0;34m\u001b[0m\u001b[0m\n\u001b[0m\u001b[1;32m    154\u001b[0m             )\n\u001b[1;32m    155\u001b[0m         \u001b[0;32mexcept\u001b[0m \u001b[0;34m(\u001b[0m\u001b[0mValueError\u001b[0m\u001b[0;34m,\u001b[0m \u001b[0mTypeError\u001b[0m\u001b[0;34m)\u001b[0m\u001b[0;34m:\u001b[0m\u001b[0;34m\u001b[0m\u001b[0;34m\u001b[0m\u001b[0m\n",
      "\u001b[0;32mpandas/_libs/lib.pyx\u001b[0m in \u001b[0;36mpandas._libs.lib.maybe_convert_numeric\u001b[0;34m()\u001b[0m\n",
      "\u001b[0;31mValueError\u001b[0m: Unable to parse string \"L2000-1325\" at position 64"
     ]
    }
   ],
   "source": [
    "#Intento transforma la columna DNI a números\n",
    "pd.to_numeric(usuarios.DNI)"
   ]
  },
  {
   "cell_type": "code",
   "execution_count": 15,
   "metadata": {},
   "outputs": [
    {
     "data": {
      "text/plain": [
       "UserID         18144\n",
       "Status             I\n",
       "Sexo               F\n",
       "DNI       L2000-1325\n",
       "Name: 64, dtype: object"
      ]
     },
     "execution_count": 15,
     "metadata": {},
     "output_type": "execute_result"
    }
   ],
   "source": [
    "#veamos que hay en la posición 64\n",
    "usuarios.iloc[64]"
   ]
  },
  {
   "cell_type": "code",
   "execution_count": 16,
   "metadata": {},
   "outputs": [
    {
     "data": {
      "text/plain": [
       "943"
      ]
     },
     "execution_count": 16,
     "metadata": {},
     "output_type": "execute_result"
    }
   ],
   "source": [
    "#Veamos cuántos registros contienen alguna letra\n",
    "np.sum(usuarios['DNI'].str.contains('[a-zA-Z]').dropna())"
   ]
  },
  {
   "cell_type": "code",
   "execution_count": 17,
   "metadata": {},
   "outputs": [
    {
     "data": {
      "text/html": [
       "<div>\n",
       "<style scoped>\n",
       "    .dataframe tbody tr th:only-of-type {\n",
       "        vertical-align: middle;\n",
       "    }\n",
       "\n",
       "    .dataframe tbody tr th {\n",
       "        vertical-align: top;\n",
       "    }\n",
       "\n",
       "    .dataframe thead th {\n",
       "        text-align: right;\n",
       "    }\n",
       "</style>\n",
       "<table border=\"1\" class=\"dataframe\">\n",
       "  <thead>\n",
       "    <tr style=\"text-align: right;\">\n",
       "      <th></th>\n",
       "      <th>UserID</th>\n",
       "      <th>Status</th>\n",
       "      <th>Sexo</th>\n",
       "      <th>DNI</th>\n",
       "    </tr>\n",
       "  </thead>\n",
       "  <tbody>\n",
       "    <tr>\n",
       "      <th>64</th>\n",
       "      <td>18144</td>\n",
       "      <td>I</td>\n",
       "      <td>F</td>\n",
       "      <td>L2000-1325</td>\n",
       "    </tr>\n",
       "    <tr>\n",
       "      <th>99</th>\n",
       "      <td>26686</td>\n",
       "      <td>A</td>\n",
       "      <td>F</td>\n",
       "      <td>L2001-1299</td>\n",
       "    </tr>\n",
       "    <tr>\n",
       "      <th>118</th>\n",
       "      <td>32289</td>\n",
       "      <td>I</td>\n",
       "      <td>NaN</td>\n",
       "      <td>L2001-1250</td>\n",
       "    </tr>\n",
       "    <tr>\n",
       "      <th>133</th>\n",
       "      <td>36481</td>\n",
       "      <td>A</td>\n",
       "      <td>NaN</td>\n",
       "      <td>L2000-924</td>\n",
       "    </tr>\n",
       "    <tr>\n",
       "      <th>219</th>\n",
       "      <td>58268</td>\n",
       "      <td>A</td>\n",
       "      <td>M</td>\n",
       "      <td>L2000-1101</td>\n",
       "    </tr>\n",
       "    <tr>\n",
       "      <th>...</th>\n",
       "      <td>...</td>\n",
       "      <td>...</td>\n",
       "      <td>...</td>\n",
       "      <td>...</td>\n",
       "    </tr>\n",
       "    <tr>\n",
       "      <th>199297</th>\n",
       "      <td>49867291</td>\n",
       "      <td>A</td>\n",
       "      <td>NaN</td>\n",
       "      <td>L2000-1013</td>\n",
       "    </tr>\n",
       "    <tr>\n",
       "      <th>199398</th>\n",
       "      <td>49891334</td>\n",
       "      <td>I</td>\n",
       "      <td>M</td>\n",
       "      <td>L2001-1154</td>\n",
       "    </tr>\n",
       "    <tr>\n",
       "      <th>199643</th>\n",
       "      <td>49955007</td>\n",
       "      <td>A</td>\n",
       "      <td>M</td>\n",
       "      <td>L2000-1067</td>\n",
       "    </tr>\n",
       "    <tr>\n",
       "      <th>199746</th>\n",
       "      <td>49980514</td>\n",
       "      <td>I</td>\n",
       "      <td>M</td>\n",
       "      <td>L2001-1072</td>\n",
       "    </tr>\n",
       "    <tr>\n",
       "      <th>199769</th>\n",
       "      <td>49985490</td>\n",
       "      <td>A</td>\n",
       "      <td>M</td>\n",
       "      <td>L2000-1245</td>\n",
       "    </tr>\n",
       "  </tbody>\n",
       "</table>\n",
       "<p>943 rows × 4 columns</p>\n",
       "</div>"
      ],
      "text/plain": [
       "          UserID Status Sexo         DNI\n",
       "64         18144      I    F  L2000-1325\n",
       "99         26686      A    F  L2001-1299\n",
       "118        32289      I  NaN  L2001-1250\n",
       "133        36481      A  NaN   L2000-924\n",
       "219        58268      A    M  L2000-1101\n",
       "...          ...    ...  ...         ...\n",
       "199297  49867291      A  NaN  L2000-1013\n",
       "199398  49891334      I    M  L2001-1154\n",
       "199643  49955007      A    M  L2000-1067\n",
       "199746  49980514      I    M  L2001-1072\n",
       "199769  49985490      A    M  L2000-1245\n",
       "\n",
       "[943 rows x 4 columns]"
      ]
     },
     "execution_count": 17,
     "metadata": {},
     "output_type": "execute_result"
    }
   ],
   "source": [
    "#Veamos que hay en las columnas nulas\n",
    "usuarios[usuarios['DNI'].str.contains('[a-zA-Z]').fillna(False)]"
   ]
  },
  {
   "cell_type": "code",
   "execution_count": 18,
   "metadata": {},
   "outputs": [],
   "source": [
    "#Nos quedamos con los que no tienen texto en DNI\n",
    "usuarios_tf=usuarios[~usuarios['DNI'].str.contains('[a-zA-Z]').fillna(False)]"
   ]
  },
  {
   "cell_type": "code",
   "execution_count": 19,
   "metadata": {},
   "outputs": [],
   "source": [
    "#Me quedo con los que no tienen nulos en DNI\n",
    "usuarios_tf=usuarios_tf.dropna(subset=['DNI'])"
   ]
  },
  {
   "cell_type": "code",
   "execution_count": 20,
   "metadata": {},
   "outputs": [],
   "source": [
    "usuarios_tf.DNI=pd.to_numeric(usuarios_tf.DNI) #convierto DNI a número\n",
    "usuarios_tf.Status=usuarios_tf.Status.convert_dtypes() #convierto Status a string\n",
    "usuarios_tf.Sexo=usuarios_tf.Sexo.convert_dtypes() #convierto Sexo a string"
   ]
  },
  {
   "cell_type": "code",
   "execution_count": 21,
   "metadata": {},
   "outputs": [
    {
     "data": {
      "text/plain": [
       "UserID     int64\n",
       "Status    string\n",
       "Sexo      string\n",
       "DNI        int64\n",
       "dtype: object"
      ]
     },
     "execution_count": 21,
     "metadata": {},
     "output_type": "execute_result"
    }
   ],
   "source": [
    "#Verifico los tipos de datos\n",
    "usuarios_tf.dtypes"
   ]
  },
  {
   "cell_type": "code",
   "execution_count": 22,
   "metadata": {},
   "outputs": [
    {
     "data": {
      "text/plain": [
       "UserID    102940\n",
       "Status    102940\n",
       "Sexo       72039\n",
       "DNI       102940\n",
       "dtype: int64"
      ]
     },
     "execution_count": 22,
     "metadata": {},
     "output_type": "execute_result"
    }
   ],
   "source": [
    "#Conteo por columnas, veo que en Sexo hay varios nulos\n",
    "usuarios_tf.count()"
   ]
  },
  {
   "cell_type": "code",
   "execution_count": 23,
   "metadata": {},
   "outputs": [],
   "source": [
    "#Elimino la columna sexo porque el tp no requiere nada con esa variable\n",
    "usuarios_tf.drop('Sexo',axis=1,inplace=True)"
   ]
  },
  {
   "cell_type": "code",
   "execution_count": 24,
   "metadata": {},
   "outputs": [
    {
     "data": {
      "text/plain": [
       "UserID    102940\n",
       "Status    102940\n",
       "DNI       102940\n",
       "dtype: int64"
      ]
     },
     "execution_count": 24,
     "metadata": {},
     "output_type": "execute_result"
    }
   ],
   "source": [
    "usuarios_tf.count()"
   ]
  },
  {
   "cell_type": "code",
   "execution_count": 25,
   "metadata": {},
   "outputs": [
    {
     "data": {
      "text/plain": [
       "UserID    0\n",
       "Status    0\n",
       "DNI       0\n",
       "dtype: int64"
      ]
     },
     "execution_count": 25,
     "metadata": {},
     "output_type": "execute_result"
    }
   ],
   "source": [
    "#¿Quedaron nulos?\n",
    "np.sum(usuarios_tf.isna())"
   ]
  },
  {
   "cell_type": "code",
   "execution_count": 26,
   "metadata": {},
   "outputs": [
    {
     "data": {
      "text/plain": [
       "3030"
      ]
     },
     "execution_count": 26,
     "metadata": {},
     "output_type": "execute_result"
    }
   ],
   "source": [
    "#¿cuántos DNI mayores a 90 millones hay?\n",
    "np.sum(usuarios_tf.DNI>90000000)"
   ]
  },
  {
   "cell_type": "code",
   "execution_count": 27,
   "metadata": {},
   "outputs": [],
   "source": [
    "#Nos quedamos con los usuarios que no tienen DNI extranjero y con aquellos usuarios que están activos\n",
    "usuarios_tf=usuarios_tf[usuarios_tf.DNI<90000000]\n",
    "usuarios_tf=usuarios_tf[usuarios_tf.Status=='A']"
   ]
  },
  {
   "cell_type": "code",
   "execution_count": 28,
   "metadata": {},
   "outputs": [
    {
     "data": {
      "text/plain": [
       "UserID    60184\n",
       "Status    60184\n",
       "DNI       60184\n",
       "dtype: int64"
      ]
     },
     "execution_count": 28,
     "metadata": {},
     "output_type": "execute_result"
    }
   ],
   "source": [
    "#Vemos como nos quedo la base de datos\n",
    "usuarios_tf.count()"
   ]
  },
  {
   "cell_type": "code",
   "execution_count": 29,
   "metadata": {},
   "outputs": [],
   "source": [
    "#Calculamos edades\n",
    "usuarios_tf['Edades']=-0.0000014545*usuarios_tf.DNI+81.3217765310"
   ]
  },
  {
   "cell_type": "code",
   "execution_count": 30,
   "metadata": {},
   "outputs": [],
   "source": [
    "#Redondeamos a 0 decimales\n",
    "usuarios_tf.Edades=usuarios_tf.Edades.round(decimals=0)"
   ]
  },
  {
   "cell_type": "code",
   "execution_count": 31,
   "metadata": {},
   "outputs": [],
   "source": [
    "#Convertimos la columna a enteros\n",
    "usuarios_tf['Edades']=usuarios_tf['Edades'].astype(np.int64)"
   ]
  },
  {
   "cell_type": "code",
   "execution_count": 32,
   "metadata": {},
   "outputs": [
    {
     "data": {
      "text/plain": [
       "UserID     int64\n",
       "Status    string\n",
       "DNI        int64\n",
       "Edades     int64\n",
       "dtype: object"
      ]
     },
     "execution_count": 32,
     "metadata": {},
     "output_type": "execute_result"
    }
   ],
   "source": [
    "#Veamos como quedaron los tipos de las columnas\n",
    "usuarios_tf.dtypes"
   ]
  },
  {
   "cell_type": "code",
   "execution_count": 33,
   "metadata": {},
   "outputs": [
    {
     "data": {
      "text/html": [
       "<div>\n",
       "<style scoped>\n",
       "    .dataframe tbody tr th:only-of-type {\n",
       "        vertical-align: middle;\n",
       "    }\n",
       "\n",
       "    .dataframe tbody tr th {\n",
       "        vertical-align: top;\n",
       "    }\n",
       "\n",
       "    .dataframe thead th {\n",
       "        text-align: right;\n",
       "    }\n",
       "</style>\n",
       "<table border=\"1\" class=\"dataframe\">\n",
       "  <thead>\n",
       "    <tr style=\"text-align: right;\">\n",
       "      <th></th>\n",
       "      <th>UserID</th>\n",
       "      <th>DNI</th>\n",
       "      <th>Edades</th>\n",
       "    </tr>\n",
       "  </thead>\n",
       "  <tbody>\n",
       "    <tr>\n",
       "      <th>count</th>\n",
       "      <td>6.018400e+04</td>\n",
       "      <td>6.018400e+04</td>\n",
       "      <td>60184.000000</td>\n",
       "    </tr>\n",
       "    <tr>\n",
       "      <th>mean</th>\n",
       "      <td>2.510085e+07</td>\n",
       "      <td>2.608515e+07</td>\n",
       "      <td>43.381081</td>\n",
       "    </tr>\n",
       "    <tr>\n",
       "      <th>std</th>\n",
       "      <td>1.443366e+07</td>\n",
       "      <td>1.212449e+07</td>\n",
       "      <td>17.638812</td>\n",
       "    </tr>\n",
       "    <tr>\n",
       "      <th>min</th>\n",
       "      <td>1.780000e+03</td>\n",
       "      <td>5.001495e+06</td>\n",
       "      <td>13.000000</td>\n",
       "    </tr>\n",
       "    <tr>\n",
       "      <th>25%</th>\n",
       "      <td>1.255413e+07</td>\n",
       "      <td>1.554571e+07</td>\n",
       "      <td>28.000000</td>\n",
       "    </tr>\n",
       "    <tr>\n",
       "      <th>50%</th>\n",
       "      <td>2.515911e+07</td>\n",
       "      <td>2.613414e+07</td>\n",
       "      <td>43.000000</td>\n",
       "    </tr>\n",
       "    <tr>\n",
       "      <th>75%</th>\n",
       "      <td>3.762991e+07</td>\n",
       "      <td>3.660985e+07</td>\n",
       "      <td>59.000000</td>\n",
       "    </tr>\n",
       "    <tr>\n",
       "      <th>max</th>\n",
       "      <td>4.999886e+07</td>\n",
       "      <td>4.700000e+07</td>\n",
       "      <td>74.000000</td>\n",
       "    </tr>\n",
       "  </tbody>\n",
       "</table>\n",
       "</div>"
      ],
      "text/plain": [
       "             UserID           DNI        Edades\n",
       "count  6.018400e+04  6.018400e+04  60184.000000\n",
       "mean   2.510085e+07  2.608515e+07     43.381081\n",
       "std    1.443366e+07  1.212449e+07     17.638812\n",
       "min    1.780000e+03  5.001495e+06     13.000000\n",
       "25%    1.255413e+07  1.554571e+07     28.000000\n",
       "50%    2.515911e+07  2.613414e+07     43.000000\n",
       "75%    3.762991e+07  3.660985e+07     59.000000\n",
       "max    4.999886e+07  4.700000e+07     74.000000"
      ]
     },
     "execution_count": 33,
     "metadata": {},
     "output_type": "execute_result"
    }
   ],
   "source": [
    "usuarios_tf.describe()"
   ]
  },
  {
   "cell_type": "code",
   "execution_count": 34,
   "metadata": {},
   "outputs": [],
   "source": [
    "#Armamos rangos de edad\n",
    "usuarios_tf['rango_edad']=np.select(\n",
    "    [\n",
    "        usuarios_tf['Edades'].between(0, 19, inclusive=True), \n",
    "        usuarios_tf['Edades'].between(20, 24, inclusive=True),\n",
    "        usuarios_tf['Edades'].between(25, 29, inclusive=True),\n",
    "        usuarios_tf['Edades'].between(30, 34, inclusive=True),\n",
    "        usuarios_tf['Edades'].between(35, 39, inclusive=True),\n",
    "        usuarios_tf['Edades'].between(40, 44, inclusive=True),\n",
    "        usuarios_tf['Edades'].between(45, 49, inclusive=True),\n",
    "        usuarios_tf['Edades'].between(50, 54, inclusive=True),\n",
    "        usuarios_tf['Edades'].between(55, 59, inclusive=True),\n",
    "        usuarios_tf['Edades'].between(60, 64, inclusive=True),\n",
    "        usuarios_tf['Edades'].between(65, 69, inclusive=True),\n",
    "        usuarios_tf['Edades'].between(70, 74, inclusive=True),\n",
    "        usuarios_tf['Edades'].between(76, 2000, inclusive=True)\n",
    "    ],\n",
    "    [\n",
    "        '<20', \n",
    "        '20-25',\n",
    "        '25-30',\n",
    "        '30-35',\n",
    "        '35-40',\n",
    "        '40-45',\n",
    "        '45-50',\n",
    "        '50-55',\n",
    "        '55-60',\n",
    "        '60-65',\n",
    "        '65-70',\n",
    "        '70-75',\n",
    "        '75'        \n",
    "    ], \n",
    "    default='Unknown'\n",
    ")"
   ]
  },
  {
   "cell_type": "code",
   "execution_count": 35,
   "metadata": {},
   "outputs": [
    {
     "data": {
      "text/html": [
       "<div>\n",
       "<style scoped>\n",
       "    .dataframe tbody tr th:only-of-type {\n",
       "        vertical-align: middle;\n",
       "    }\n",
       "\n",
       "    .dataframe tbody tr th {\n",
       "        vertical-align: top;\n",
       "    }\n",
       "\n",
       "    .dataframe thead th {\n",
       "        text-align: right;\n",
       "    }\n",
       "</style>\n",
       "<table border=\"1\" class=\"dataframe\">\n",
       "  <thead>\n",
       "    <tr style=\"text-align: right;\">\n",
       "      <th></th>\n",
       "      <th>Edades</th>\n",
       "    </tr>\n",
       "    <tr>\n",
       "      <th>rango_edad</th>\n",
       "      <th></th>\n",
       "    </tr>\n",
       "  </thead>\n",
       "  <tbody>\n",
       "    <tr>\n",
       "      <th>20-25</th>\n",
       "      <td>4968</td>\n",
       "    </tr>\n",
       "    <tr>\n",
       "      <th>25-30</th>\n",
       "      <td>4979</td>\n",
       "    </tr>\n",
       "    <tr>\n",
       "      <th>30-35</th>\n",
       "      <td>4955</td>\n",
       "    </tr>\n",
       "    <tr>\n",
       "      <th>35-40</th>\n",
       "      <td>4987</td>\n",
       "    </tr>\n",
       "    <tr>\n",
       "      <th>40-45</th>\n",
       "      <td>4868</td>\n",
       "    </tr>\n",
       "    <tr>\n",
       "      <th>45-50</th>\n",
       "      <td>4869</td>\n",
       "    </tr>\n",
       "    <tr>\n",
       "      <th>50-55</th>\n",
       "      <td>4916</td>\n",
       "    </tr>\n",
       "    <tr>\n",
       "      <th>55-60</th>\n",
       "      <td>4916</td>\n",
       "    </tr>\n",
       "    <tr>\n",
       "      <th>60-65</th>\n",
       "      <td>4944</td>\n",
       "    </tr>\n",
       "    <tr>\n",
       "      <th>65-70</th>\n",
       "      <td>4840</td>\n",
       "    </tr>\n",
       "    <tr>\n",
       "      <th>70-75</th>\n",
       "      <td>4434</td>\n",
       "    </tr>\n",
       "    <tr>\n",
       "      <th>&lt;20</th>\n",
       "      <td>6508</td>\n",
       "    </tr>\n",
       "  </tbody>\n",
       "</table>\n",
       "</div>"
      ],
      "text/plain": [
       "            Edades\n",
       "rango_edad        \n",
       "20-25         4968\n",
       "25-30         4979\n",
       "30-35         4955\n",
       "35-40         4987\n",
       "40-45         4868\n",
       "45-50         4869\n",
       "50-55         4916\n",
       "55-60         4916\n",
       "60-65         4944\n",
       "65-70         4840\n",
       "70-75         4434\n",
       "<20           6508"
      ]
     },
     "execution_count": 35,
     "metadata": {},
     "output_type": "execute_result"
    }
   ],
   "source": [
    "#Armamos una tabla pivot\n",
    "pd.pivot_table(usuarios_tf,values='Edades',index=['rango_edad'],aggfunc='count')"
   ]
  },
  {
   "cell_type": "code",
   "execution_count": 36,
   "metadata": {},
   "outputs": [],
   "source": [
    "#Exportamos los resultados a un excel para graficar\n",
    "usuarios_tf.to_excel('test.xlsx')"
   ]
  },
  {
   "cell_type": "code",
   "execution_count": 37,
   "metadata": {},
   "outputs": [
    {
     "data": {
      "text/plain": [
       "<matplotlib.axes._subplots.AxesSubplot at 0x7fc43e780850>"
      ]
     },
     "execution_count": 37,
     "metadata": {},
     "output_type": "execute_result"
    },
    {
     "data": {
      "image/png": "[encoded data removed]",
      "text/plain": [
       "<Figure size 432x288 with 1 Axes>"
      ]
     },
     "metadata": {
      "needs_background": "light"
     },
     "output_type": "display_data"
    }
   ],
   "source": [
    "#Armamos una tabla pivot\n",
    "pd.pivot_table(usuarios_tf,values='Edades',index=['rango_edad'],aggfunc='count').plot(kind='bar')"
   ]
  }
 ],
 "metadata": {
  "kernelspec": {
   "display_name": "Python 3",
   "language": "python",
   "name": "python3"
  },
  "language_info": {
   "codemirror_mode": {
    "name": "ipython",
    "version": 3
   },
   "file_extension": ".py",
   "mimetype": "text/x-python",
   "name": "python",
   "nbconvert_exporter": "python",
   "pygments_lexer": "ipython3",
   "version": "3.7.6"
  }
 },
 "nbformat": 4,
 "nbformat_minor": 4
}
