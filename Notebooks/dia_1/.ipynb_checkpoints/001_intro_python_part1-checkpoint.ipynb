{
 "cells": [
  {
   "cell_type": "markdown",
   "metadata": {},
   "source": [
    "# Breve Introducción a Python\n",
    "\n",
    "Python es un lenguaje interpretado de tipos dinámicos. A diferencia de R, por ejemplo, es un lenguaje de uso general y su capacidad para las ciencias de datos no viene dada desde sus librerías internas sino por los módulos externos. Se puede usar en forma imperativa u orientada a objetos; teóricamente también dentro del paradigma de programación funcional, pero con ciertas limitaciones (existen límites para ejecución recursiva, por ejemplo).\n",
    "\n",
    "Python puro tiende a ser lento (para ejecutar, rápido para escribir), por tener tipos dinámicos y por el GIL. Sin embargo, el intérprete más comúnmente usado (CPytyhon) esta implementado en C y permite la integración de módulos externos de C, C++ y Fortran que, bien utilizados, permiten la aceleración de las partes claves de un programa. \n",
    "\n",
    "Desde lo estético, Python reemplaza las llaves por indentaciones, cosa que fuerza un código más leíble. Por lo demás, existe toda una \"filosofía\" de lo que es \"pythonico\", en términos de prolijidad, funcionalidad y belleza del código."
   ]
  },
  {
   "cell_type": "code",
   "execution_count": null,
   "metadata": {
    "scrolled": true
   },
   "outputs": [],
   "source": [
    "import this"
   ]
  },
  {
   "cell_type": "markdown",
   "metadata": {},
   "source": [
    "### Acerca del Markdown\n",
    "\n",
    "https://www.markdownguide.org/basic-syntax/"
   ]
  },
  {
   "cell_type": "markdown",
   "metadata": {},
   "source": [
    "## Operaciones Básicas\n",
    "\n",
    "\n",
    "| Operador  | Operación                        | Ejemplo         |\n",
    "| --------- | -------------------------------- | --------------- |\n",
    "| **        | Potencia                         | `2 ** 3 = 8`    |\n",
    "| %         | Resto                            | `22 % 8 = 6`    |\n",
    "| //        | División de enteros              | `22 // 8 = 2`   |\n",
    "| /         | Division normal                  | `22 / 8 = 2.75` |\n",
    "| *         | Multiplicación                   | `3 * 3 = 9`     |\n",
    "| -         | Resta                            | `5 - 2 = 3`     |\n",
    "| +         | Suma         | `2 + 2 = 4`     |"
   ]
  },
  {
   "cell_type": "code",
   "execution_count": null,
   "metadata": {},
   "outputs": [],
   "source": [
    "22 / 8"
   ]
  },
  {
   "cell_type": "code",
   "execution_count": null,
   "metadata": {},
   "outputs": [],
   "source": [
    "22 // 8, 22 % 8"
   ]
  },
  {
   "cell_type": "markdown",
   "metadata": {},
   "source": [
    "## Variables\n",
    "\n",
    "Las variables se asignan con el signo igual =, y su nombre sólo se pueden usar letras, números y guió bajo (_), no se pueden usar espacios y tampoco pueden empezar con un número"
   ]
  },
  {
   "cell_type": "code",
   "execution_count": null,
   "metadata": {},
   "outputs": [],
   "source": [
    "123var = 123"
   ]
  },
  {
   "cell_type": "code",
   "execution_count": null,
   "metadata": {},
   "outputs": [],
   "source": [
    "var = 123"
   ]
  },
  {
   "cell_type": "code",
   "execution_count": null,
   "metadata": {},
   "outputs": [],
   "source": [
    "type(var)"
   ]
  },
  {
   "cell_type": "markdown",
   "metadata": {},
   "source": [
    "## Tipos Básicos de Datos\n",
    "\n",
    "\n",
    "| Tipo  | Ejemplo\n",
    "| --------- | --------------- |\n",
    "| Lógico    | True, False| \n",
    "| Entero    | 1, 2, 3| \n",
    "| Decimal o punto flotante         | 1.25, -120.25 | \n",
    "| Cadena o texto        | Hola, Adiós              | \n",
    "| Lista        | \\[1, 2, 3\\]              |\n",
    "| Diccionario        | {\"llave\": \"valor\"}              |"
   ]
  },
  {
   "cell_type": "code",
   "execution_count": null,
   "metadata": {},
   "outputs": [],
   "source": [
    "cadena = \"estos es una cadena de texto\"\n",
    "\n",
    "entero = 10\n",
    "\n",
    "punto_flotante = 10.4\n",
    "\n",
    "punto_flotante_alternativa = 10.\n",
    "\n",
    "booleano = False\n",
    "\n",
    "lista = [\"elemento1\", \"elemento2\", 1236, 10.2, 2., True]\n",
    "\n",
    "tupla = (\"elemento1\", \"elemento2\", 1236, 10.2, 2., True)\n",
    "\n",
    "diccionario = {\"llave1\": 1, \"llave2\": 2}"
   ]
  },
  {
   "cell_type": "markdown",
   "metadata": {},
   "source": [
    "Vemos las Variables usando el comando mágico \"whos\""
   ]
  },
  {
   "cell_type": "code",
   "execution_count": null,
   "metadata": {},
   "outputs": [],
   "source": [
    "whos"
   ]
  },
  {
   "cell_type": "markdown",
   "metadata": {},
   "source": [
    "### Operaciones con cadenas de texto\n",
    "\n",
    "Las cadenas se pueden sumar y multiplicar, dependiendo el caso multiplicar es razonable, pero sumar esta desaconsejado; se recomienda usar formateo de texto"
   ]
  },
  {
   "cell_type": "code",
   "execution_count": null,
   "metadata": {},
   "outputs": [],
   "source": [
    "palabra1 = \"hola\"\n",
    "palabra2 = \"mundo\"\n",
    "palabra1 + palabra2"
   ]
  },
  {
   "cell_type": "markdown",
   "metadata": {},
   "source": [
    "Usando fomateo de texto:"
   ]
  },
  {
   "cell_type": "code",
   "execution_count": null,
   "metadata": {},
   "outputs": [],
   "source": [
    "f\"{palabra1} {palabra2}\""
   ]
  },
  {
   "cell_type": "code",
   "execution_count": null,
   "metadata": {},
   "outputs": [],
   "source": [
    "num = 1233432.127\n",
    "por = 0.1568\n",
    "\n",
    "f\"interpolar tambien permite cosas complejas como separador de miles {num:,.2f} o porcentajes {por:.0%}\""
   ]
  },
  {
   "cell_type": "markdown",
   "metadata": {},
   "source": [
    "### Funciones básicas de los diccionarios"
   ]
  },
  {
   "cell_type": "code",
   "execution_count": null,
   "metadata": {},
   "outputs": [],
   "source": [
    "diccionario"
   ]
  },
  {
   "cell_type": "code",
   "execution_count": null,
   "metadata": {},
   "outputs": [],
   "source": [
    "diccionario.keys()"
   ]
  },
  {
   "cell_type": "code",
   "execution_count": null,
   "metadata": {},
   "outputs": [],
   "source": [
    "diccionario.values()"
   ]
  },
  {
   "cell_type": "code",
   "execution_count": null,
   "metadata": {},
   "outputs": [],
   "source": [
    "diccionario.items()"
   ]
  },
  {
   "cell_type": "code",
   "execution_count": null,
   "metadata": {},
   "outputs": [],
   "source": [
    "diccionario[\"llave1\"]"
   ]
  },
  {
   "cell_type": "markdown",
   "metadata": {},
   "source": [
    "### Funciones básicas de las listas"
   ]
  },
  {
   "cell_type": "markdown",
   "metadata": {},
   "source": [
    "Los elementos de una lista se pueden acceder mediante su indice\n",
    "\n",
    "* Todos los indices empiezan en 0\n",
    "* Se usan numeros enteros\n",
    "* El indice maximo equivale a la cantidad de (elementos - 1)\n",
    "* Se accede al elemento con [*indice*]\n",
    "* Si el indice es negativo, se cuenta desde el final"
   ]
  },
  {
   "cell_type": "code",
   "execution_count": null,
   "metadata": {},
   "outputs": [],
   "source": [
    "lista"
   ]
  },
  {
   "cell_type": "code",
   "execution_count": null,
   "metadata": {},
   "outputs": [],
   "source": [
    "lista[0]"
   ]
  },
  {
   "cell_type": "code",
   "execution_count": null,
   "metadata": {},
   "outputs": [],
   "source": [
    "tupla"
   ]
  },
  {
   "cell_type": "code",
   "execution_count": null,
   "metadata": {},
   "outputs": [],
   "source": [
    "tupla[0]"
   ]
  },
  {
   "cell_type": "code",
   "execution_count": null,
   "metadata": {},
   "outputs": [],
   "source": [
    "lista[-1]"
   ]
  },
  {
   "cell_type": "code",
   "execution_count": null,
   "metadata": {},
   "outputs": [],
   "source": [
    "lista[0] = \"otro elemento\"\n",
    "lista"
   ]
  },
  {
   "cell_type": "code",
   "execution_count": null,
   "metadata": {},
   "outputs": [],
   "source": [
    "tupla[0] = \"otro elemento\""
   ]
  },
  {
   "cell_type": "markdown",
   "metadata": {},
   "source": [
    "### Seleccionando rangos\n",
    "Se pueden seleccionar mas de un elemento de una lista usando '**:**'\n",
    "\n",
    "Para seleccionar los primeros 2 se hace **[:2]**"
   ]
  },
  {
   "cell_type": "code",
   "execution_count": null,
   "metadata": {},
   "outputs": [],
   "source": [
    "lista[:2]"
   ]
  },
  {
   "cell_type": "markdown",
   "metadata": {},
   "source": [
    "Los ultimos dos:"
   ]
  },
  {
   "cell_type": "code",
   "execution_count": null,
   "metadata": {},
   "outputs": [],
   "source": [
    "lista[-2:]"
   ]
  },
  {
   "cell_type": "markdown",
   "metadata": {},
   "source": [
    "Que es lo mismo que seleccionar desde el 3o al ultimo"
   ]
  },
  {
   "cell_type": "code",
   "execution_count": null,
   "metadata": {},
   "outputs": [],
   "source": [
    "lista[3:]"
   ]
  },
  {
   "cell_type": "markdown",
   "metadata": {},
   "source": [
    "Del segundo al cuarto (ojo que el segundo elemento es el indice 1)"
   ]
  },
  {
   "cell_type": "code",
   "execution_count": null,
   "metadata": {},
   "outputs": [],
   "source": [
    "lista[1:4]"
   ]
  },
  {
   "cell_type": "markdown",
   "metadata": {},
   "source": [
    "### Agragando datos a una Lista\n",
    "\n",
    "Usando append() lo agrego al final"
   ]
  },
  {
   "cell_type": "code",
   "execution_count": null,
   "metadata": {},
   "outputs": [],
   "source": [
    "nombres = ['Pedro', 'Lucia', 'Juan', 'Maria']\n",
    "nombres.append('Manuel')\n",
    "nombres"
   ]
  },
  {
   "cell_type": "markdown",
   "metadata": {},
   "source": [
    "Usando insert() le digo la posición donde insertarlo"
   ]
  },
  {
   "cell_type": "code",
   "execution_count": null,
   "metadata": {},
   "outputs": [],
   "source": [
    "nombres = ['Pedro', 'Lucia', 'Juan', 'Maria']\n",
    "nombres.insert(1, 'Manuel')\n",
    "nombres"
   ]
  },
  {
   "cell_type": "markdown",
   "metadata": {},
   "source": [
    "### Elimino Valores de Una lista o los Ordeno"
   ]
  },
  {
   "cell_type": "markdown",
   "metadata": {},
   "source": [
    "Puedo Eliminarlos usando remove()"
   ]
  },
  {
   "cell_type": "code",
   "execution_count": null,
   "metadata": {},
   "outputs": [],
   "source": [
    "nombres = ['Pedro', 'Lucia', 'Juan', 'Maria']\n",
    "nombres.remove('Lucia')\n",
    "nombres"
   ]
  },
  {
   "cell_type": "markdown",
   "metadata": {},
   "source": [
    "Puedo ordenarlos usando sort()"
   ]
  },
  {
   "cell_type": "code",
   "execution_count": null,
   "metadata": {},
   "outputs": [],
   "source": [
    "numeros = [2, 5, 3.14, 1, -7]\n",
    "numeros.sort()\n",
    "numeros"
   ]
  },
  {
   "cell_type": "code",
   "execution_count": null,
   "metadata": {},
   "outputs": [],
   "source": [
    "nombres = ['Pedro', 'Lucia', 'Juan', 'Maria']\n",
    "nombres.sort()\n",
    "nombres"
   ]
  },
  {
   "cell_type": "markdown",
   "metadata": {},
   "source": [
    "Puedo invertir el orden con `reverse=True`"
   ]
  },
  {
   "cell_type": "code",
   "execution_count": null,
   "metadata": {},
   "outputs": [],
   "source": [
    "numeros.sort(reverse=True)\n",
    "numeros"
   ]
  },
  {
   "cell_type": "markdown",
   "metadata": {},
   "source": [
    "## Ejercicios"
   ]
  },
  {
   "cell_type": "markdown",
   "metadata": {},
   "source": [
    "#### Objetos y Tipos"
   ]
  },
  {
   "cell_type": "markdown",
   "metadata": {},
   "source": [
    "Asignar a un objeto llamado \"Numero\" el resultado de: 100 / 4"
   ]
  },
  {
   "cell_type": "code",
   "execution_count": null,
   "metadata": {},
   "outputs": [],
   "source": []
  },
  {
   "cell_type": "markdown",
   "metadata": {},
   "source": [
    "Ver el Tipo de Dato de el objeto Numero"
   ]
  },
  {
   "cell_type": "code",
   "execution_count": null,
   "metadata": {},
   "outputs": [],
   "source": []
  },
  {
   "cell_type": "markdown",
   "metadata": {},
   "source": [
    "#### Listas"
   ]
  },
  {
   "cell_type": "markdown",
   "metadata": {},
   "source": [
    "Crear una Lista llamada \"Letras\" que contenga 5 letras de la A a la E  (A, B, C, D, E)"
   ]
  },
  {
   "cell_type": "code",
   "execution_count": null,
   "metadata": {},
   "outputs": [],
   "source": []
  },
  {
   "cell_type": "code",
   "execution_count": null,
   "metadata": {},
   "outputs": [],
   "source": []
  },
  {
   "cell_type": "markdown",
   "metadata": {},
   "source": [
    "Buscar, usando el indice, el primer y el ultimo elemento de la lista"
   ]
  },
  {
   "cell_type": "code",
   "execution_count": null,
   "metadata": {},
   "outputs": [],
   "source": []
  },
  {
   "cell_type": "code",
   "execution_count": null,
   "metadata": {},
   "outputs": [],
   "source": []
  },
  {
   "cell_type": "markdown",
   "metadata": {},
   "source": [
    "Buscar, usando el indice, los 3 primeros elementos de la lista"
   ]
  },
  {
   "cell_type": "code",
   "execution_count": null,
   "metadata": {},
   "outputs": [],
   "source": []
  }
 ],
 "metadata": {
  "kernelspec": {
   "display_name": "Python 3",
   "language": "python",
   "name": "python3"
  },
  "language_info": {
   "codemirror_mode": {
    "name": "ipython",
    "version": 3
   },
   "file_extension": ".py",
   "mimetype": "text/x-python",
   "name": "python",
   "nbconvert_exporter": "python",
   "pygments_lexer": "ipython3",
   "version": "3.7.6"
  }
 },
 "nbformat": 4,
 "nbformat_minor": 4
}
